{
 "cells": [
  {
   "cell_type": "markdown",
   "id": "8d0fe46c",
   "metadata": {},
   "source": [
    "# Iteráveis no Python"
   ]
  },
  {
   "cell_type": "markdown",
   "id": "19470322",
   "metadata": {},
   "source": [
    "Em Python, iteráveis são objetos que podem ser percorridos elemento por elemento, como **listas**, **tuplas**, **dicionários**, **conjuntos** e **strings**."
   ]
  },
  {
   "cell_type": "markdown",
   "id": "1b99cbfd",
   "metadata": {},
   "source": [
    "## String\n",
    "Uma **String** em Python é uma sequência de caracteres usada para representar texto. Pode conter letras, números, símbolos e espaços. Strings são definidas entre **aspas simples** (`'texto'`), **aspas duplas** (`\"texto\"`) ou **aspas triplas** (`'''texto'''` ou `\"\"\"texto\"\"\"`)."
   ]
  },
  {
   "cell_type": "markdown",
   "id": "8189ab86",
   "metadata": {},
   "source": [
    "Exemplo de criação de Strings:\n"
   ]
  },
  {
   "cell_type": "code",
   "execution_count": null,
   "id": "9086ca90",
   "metadata": {},
   "outputs": [],
   "source": [
    "name = \"Gabriel\"  # Aspas duplas\n",
    "city = 'São Paulo'  # Aspas simples\n",
    "message = \"\"\"Python é incrível!\"\"\"  # Aspas triplas"
   ]
  },
  {
   "cell_type": "markdown",
   "id": "2b6bf9df",
   "metadata": {},
   "source": [
    "### Principais características\n",
    "- **Imutáveis**: Uma vez criada, a String não pode ser alterada diretamente.\n",
    "- **Iteráveis**: Podemos percorrer cada caractere usando um loop for.\n",
    "- **Métodos úteis**:"
   ]
  },
  {
   "cell_type": "code",
   "execution_count": null,
   "id": "50d4a112",
   "metadata": {},
   "outputs": [],
   "source": [
    "text = \"Python é incrível!\"\n",
    "\n",
    "print(text.upper())  # Converte para maiúsculas\n",
    "print(text.lower())  # Converte para minúsculas\n",
    "print(text.replace(\"Python\", \"Programming\"))  # Substitui palavras\n",
    "print(text.split())  # Divide a string em uma lista de palavras\n",
    "print(text.strip())  # Remove espaços extras no início e fim\n",
    "print(len(text))     # Retorna o comprimento do texto (a quantidade de caracteres da string)"
   ]
  },
  {
   "cell_type": "markdown",
   "id": "aab3d45e",
   "metadata": {},
   "source": [
    "### Interpolação de Strings\n",
    "A interpolação de **strings** em Python pode ser feita de várias maneiras, e uma das mais modernas e eficientes é usando **f-strings**. Introduzidas no Python 3.6, as f-strings permitem incorporar variáveis e expressões diretamente dentro de uma string, tornando o código mais legível e conciso."
   ]
  },
  {
   "cell_type": "markdown",
   "id": "904d3f9f",
   "metadata": {},
   "source": [
    "#### Como usar f-strings\n",
    "Para criar uma f-string, basta prefixar a string com `f` e usar `{}` para inserir variáveis ou expressões:"
   ]
  },
  {
   "cell_type": "code",
   "execution_count": null,
   "id": "8f3a10d7",
   "metadata": {},
   "outputs": [],
   "source": [
    "name = \"Gabriel\"\n",
    "age = 25\n",
    "\n",
    "print(f\"Meu nome é {name} e tenho {age} anos.\")"
   ]
  },
  {
   "cell_type": "markdown",
   "id": "890da371",
   "metadata": {},
   "source": [
    "#### Interpolação com expressões\n",
    "Você pode incluir cálculos e chamadas de métodos dentro das chaves `{}`:\n"
   ]
  },
  {
   "cell_type": "code",
   "execution_count": null,
   "id": "2981bb85",
   "metadata": {},
   "outputs": [],
   "source": [
    "price = 49.99\n",
    "discount = 10\n",
    "\n",
    "print(f\"Preço com desconto: R$ {price - (price * discount / 100):.2f}\")"
   ]
  },
  {
   "cell_type": "markdown",
   "id": "3c90ff6b",
   "metadata": {},
   "source": [
    "#### Formatando valores\n",
    "As f-strings também permitem formatar números e strings:\n"
   ]
  },
  {
   "cell_type": "code",
   "execution_count": null,
   "id": "40201225",
   "metadata": {},
   "outputs": [],
   "source": [
    "pi = 3.14159\n",
    "print(f\"O valor de pi é {pi:.2f}\")  # Limita a 2 casas decimais\n",
    "\n",
    "name = \"gabriel\"\n",
    "print(f\"Nome formatado: {name.capitalize()}\")  # Primeira letra maiúscula"
   ]
  },
  {
   "cell_type": "markdown",
   "id": "952f10ac",
   "metadata": {},
   "source": [
    "#### Usando f-strings com múltiplas linhas\n",
    "Se precisar de uma string longa, pode usar aspas triplas:\n"
   ]
  },
  {
   "cell_type": "code",
   "execution_count": null,
   "id": "a2afc2f4",
   "metadata": {},
   "outputs": [],
   "source": [
    "name = \"Gabriel\"\n",
    "age = 25\n",
    "\n",
    "message = f\"\"\"\n",
    "Olá, meu nome é {name}.\n",
    "Tenho {age} anos e gosto de Python!\n",
    "\"\"\"\n",
    "print(message)"
   ]
  },
  {
   "cell_type": "markdown",
   "id": "d12a1331",
   "metadata": {},
   "source": [
    "### Referências sobre String\n",
    "[string — Operações comuns de strings](https://docs.python.org/pt-br/3/library/string.html)\n",
    "\n",
    "[Strings no Python](https://pythonacademy.com.br/blog/strings-no-python)\n",
    "\n",
    "[F-strings para interpolação e formatação em Python](https://www.aprendizartificial.com/f-strings-para-interpolacao-e-formatacao-em-python/)"
   ]
  },
  {
   "cell_type": "markdown",
   "id": "7498852f",
   "metadata": {},
   "source": [
    "## Listas\n",
    "\n",
    "As **listas** são coleções ordenadas e mutáveis. Você pode adicionar, remover e modificar elementos. Elas são definidas entre colchetes (`[]`) ou através do método `list()` e podem conter diferentes tipos de dados, como números, strings e até outras listas."
   ]
  },
  {
   "cell_type": "markdown",
   "id": "60f72ab3",
   "metadata": {},
   "source": [
    "### Criando uma lista"
   ]
  },
  {
   "cell_type": "code",
   "execution_count": null,
   "id": "534d9d6d",
   "metadata": {},
   "outputs": [],
   "source": [
    "fruits = [\"apple\", \"banana\", \"grape\"]\n",
    "mix = [\"Python\", 3.14, True]\n",
    "numbers = list(range(5))\n",
    "print(numbers)\n",
    "text = \"Python\"\n",
    "lits_characters = list(text)\n",
    "print(lits_characters)"
   ]
  },
  {
   "cell_type": "markdown",
   "id": "7db88a04",
   "metadata": {},
   "source": [
    "O método `range()` em Python é usado para gerar uma sequência de números, geralmente utilizado em loops `for`. Ele cria um objeto iterável, permitindo percorrer valores dentro de um intervalo específico.\n"
   ]
  },
  {
   "cell_type": "markdown",
   "id": "c36eab1d",
   "metadata": {},
   "source": [
    "##### Sintaxe do `range()`:\n",
    "O `range()` pode ser usado de três formas:\n",
    "- `range(stop)` → Gera números de 0 até *stop* `- 1`\n",
    "- `range(start, stop)` → Gera números de *start* até *stop* `- 1`\n",
    "- `range(start, stop, step)` → Gera números de start até stop `- 1`, pulando de *step* em *step*"
   ]
  },
  {
   "cell_type": "markdown",
   "id": "85e90377",
   "metadata": {},
   "source": [
    "### Acessando elementos\n",
    "Os elementos de uma lista são indexados a partir de **0**:\n"
   ]
  },
  {
   "cell_type": "code",
   "execution_count": null,
   "id": "a64a091d",
   "metadata": {},
   "outputs": [],
   "source": [
    "print(fruits[0])  # Saída: apple\n",
    "print(fruits[-1])  # Saída: grape (índice negativo acessa de trás para frente)"
   ]
  },
  {
   "cell_type": "markdown",
   "id": "10c30a14",
   "metadata": {},
   "source": [
    "### Modificando listas\n",
    "Como listas são **mutáveis**, podemos alterar seus elementos:"
   ]
  },
  {
   "cell_type": "code",
   "execution_count": null,
   "id": "c6f3cf7f",
   "metadata": {},
   "outputs": [],
   "source": [
    "fruits[1] = \"orange\"\n",
    "print(fruits)  "
   ]
  },
  {
   "cell_type": "markdown",
   "id": "dd4cfaa9",
   "metadata": {},
   "source": [
    "### Principais métodos\n",
    "- `len()`: Retorna a quantidade de elementos na lista.\n",
    "- `.append()`: Adiciona um elemento ao final da lista.\n",
    "- `.insert()`: Insere um elemento em uma posição específica.\n",
    "- `.remove()`: Remove um elemento pelo valor.\n",
    "- `.pop()`: Remove e retorna um elemento pelo índice.\n",
    "- `.sort()`: Ordena a lista.\n",
    "- `.reverse()`: Inverte a ordem dos elementos.\n",
    "- `.count()`: Conta quantas vezes um elemento aparece na lista"
   ]
  },
  {
   "cell_type": "code",
   "execution_count": null,
   "id": "07488e86",
   "metadata": {},
   "outputs": [],
   "source": [
    "fruits.append(\"strawberry\")\n",
    "fruits.remove(\"grape\")\n",
    "print(fruits)\n",
    "print(fruits.count(\"orange\"))\n",
    "print(len(fruits))"
   ]
  },
  {
   "cell_type": "markdown",
   "id": "8a5acafb",
   "metadata": {},
   "source": [
    "### Iterando sobre uma lista\n",
    "Podemos percorrer os elementos com um `for`:"
   ]
  },
  {
   "cell_type": "code",
   "execution_count": null,
   "id": "030b8cd6",
   "metadata": {},
   "outputs": [],
   "source": [
    "for fruit in fruits:\n",
    "    print(fruit)"
   ]
  },
  {
   "cell_type": "markdown",
   "id": "ec0ddafb",
   "metadata": {},
   "source": [
    "### Compreensão de lista\n",
    "A compreensão de listas (*list comprehension*) é uma técnica poderosa e concisa para criar listas em Python. Ela permite gerar listas de forma mais eficiente, substituindo loops for tradicionais e até funções como `map()` e `filter()`."
   ]
  },
  {
   "cell_type": "markdown",
   "id": "f685c257",
   "metadata": {},
   "source": [
    "#### Sintaxe básica\n",
    "A estrutura da compreensão de listas segue este formato:\n",
    "```\n",
    "[expressão for item in iterável]\n",
    "```\n",
    "\n",
    "Exemplo:"
   ]
  },
  {
   "cell_type": "code",
   "execution_count": null,
   "id": "ae7bdf07",
   "metadata": {},
   "outputs": [
    {
     "name": "stdout",
     "output_type": "stream",
     "text": [
      "[0, 1, 4, 9, 16]\n"
     ]
    }
   ],
   "source": [
    "squares = [x**2 for x in range(5)]\n",
    "print(squares)"
   ]
  },
  {
   "cell_type": "markdown",
   "id": "dfcbf553",
   "metadata": {},
   "source": [
    "Aqui, cada número de `range(5)` é elevado ao quadrado e armazenado na lista."
   ]
  },
  {
   "cell_type": "markdown",
   "id": "d483edc0",
   "metadata": {},
   "source": [
    "#### Compreensão de listas com `if`\n",
    "Podemos adicionar uma condição para filtrar elementos:\n"
   ]
  },
  {
   "cell_type": "code",
   "execution_count": null,
   "id": "02e6bdf2",
   "metadata": {},
   "outputs": [],
   "source": [
    "squares = [x for x in range(10) if x % 2 == 0]\n",
    "print(squares)"
   ]
  },
  {
   "cell_type": "markdown",
   "id": "989dcf9c",
   "metadata": {},
   "source": [
    "Apenas os números pares são incluídos na lista."
   ]
  },
  {
   "cell_type": "markdown",
   "id": "df1a186f",
   "metadata": {},
   "source": [
    "#### Compreensão de listas com `if-else`\n",
    "Se precisar modificar os valores com base em uma condição:"
   ]
  },
  {
   "cell_type": "code",
   "execution_count": null,
   "id": "5bccfd0c",
   "metadata": {},
   "outputs": [],
   "source": [
    "result = [\"Pair\" if x % 2 == 0 else \"Odd\" for x in range(5)]\n",
    "print(result)"
   ]
  },
  {
   "cell_type": "markdown",
   "id": "f0757bb2",
   "metadata": {},
   "source": [
    "#### Compreensão de listas aninhadas\n",
    "Podemos criar listas dentro de listas:"
   ]
  },
  {
   "cell_type": "code",
   "execution_count": null,
   "id": "6d99d6d1",
   "metadata": {},
   "outputs": [],
   "source": [
    "matrix = [[x for x in range(3)] for y in range(3)]\n",
    "print(matrix)  # Saída: [[0, 1, 2], [0, 1, 2], [0, 1, 2]]"
   ]
  },
  {
   "cell_type": "markdown",
   "id": "cd12de1b",
   "metadata": {},
   "source": [
    "### Ferramentas para manipulação de listas\n",
    "\n",
    "As funções `map()`, `zip()` e `filter()` são ferramentas poderosas do Python para manipulação de iteráveis."
   ]
  },
  {
   "cell_type": "markdown",
   "id": "7dc03fb5",
   "metadata": {},
   "source": [
    "- `map()` – Aplicação de função a elementos\n",
    "\n",
    "A função `map()` aplica uma função a **cada elemento** de um iterável e retorna um novo iterável com os valores transformados."
   ]
  },
  {
   "cell_type": "code",
   "execution_count": null,
   "id": "d65daadb",
   "metadata": {},
   "outputs": [],
   "source": [
    "numbers = [1, 2, 3, 4, 5]\n",
    "\n",
    "# Multiplica cada número por 2\n",
    "double = list(map(lambda x: x * 2, numbers))\n",
    "print(double) "
   ]
  },
  {
   "cell_type": "markdown",
   "id": "a31c4489",
   "metadata": {},
   "source": [
    "- `zip()` – Combinação de iteráveis\n",
    "\n",
    "A função `zip()` combina elementos de múltiplos iteráveis, criando pares ou grupos."
   ]
  },
  {
   "cell_type": "code",
   "execution_count": null,
   "id": "59d23156",
   "metadata": {},
   "outputs": [],
   "source": [
    "names = [\"Ana\", \"Carlos\", \"Gabriel\"]\n",
    "ages = [25, 30, 22]\n",
    "\n",
    "combined = list(zip(names, ages))\n",
    "print(combined)"
   ]
  },
  {
   "cell_type": "markdown",
   "id": "9b265471",
   "metadata": {},
   "source": [
    "- Usando `map()` e `zip()` juntos\n",
    "\n",
    "Podemos combinar `map()` e `zip()` para aplicar uma função a pares de elementos:"
   ]
  },
  {
   "cell_type": "code",
   "execution_count": null,
   "id": "5e505e52",
   "metadata": {},
   "outputs": [],
   "source": [
    "numbers1 = [1, 2, 3]\n",
    "numbers2 = [4, 5, 6]\n",
    "\n",
    "add = list(map(lambda x: x[0] + x[1], zip(numbers1, numbers2)))\n",
    "print(add)"
   ]
  },
  {
   "cell_type": "markdown",
   "id": "393e3585",
   "metadata": {},
   "source": [
    "- `filter()` – Filtragem de elemento\n",
    "\n",
    "A função `filter()` aplica uma condição e **retorna apenas os elementos que atendem ao critério**."
   ]
  },
  {
   "cell_type": "code",
   "execution_count": null,
   "id": "47f537a8",
   "metadata": {},
   "outputs": [],
   "source": [
    "numbers = [1, 2, 3, 4, 5]\n",
    "\n",
    "# Filtra apenas os números pares\n",
    "pairs = list(filter(lambda x: x % 2 == 0, numbers))\n",
    "print(pairs)"
   ]
  },
  {
   "cell_type": "markdown",
   "id": "438f460e",
   "metadata": {},
   "source": [
    "### Referências sobre listas\n",
    "\n",
    "[Listas no Python](https://pythonacademy.com.br/blog/listas-no-python)\n",
    "\n",
    "[List Comprehensions no Python](https://pythonacademy.com.br/blog/list-comprehensions-no-python)\n",
    "\n",
    "[Map, Filter and Zip](https://dev.to/codespent/understanding-map-filter-and-zip-in-python-3ifn)"
   ]
  },
  {
   "cell_type": "markdown",
   "id": "306f9d4e",
   "metadata": {},
   "source": [
    "## Tuplas\n",
    "Tuplas são semelhantes às listas, mas **imutáveis** (não podem ser alteradas após a criação). Tuplas são definidas entre parênteses (`()`) ou através do método `tuple()`."
   ]
  },
  {
   "cell_type": "markdown",
   "id": "2ee57dca",
   "metadata": {},
   "source": [
    "### Principais métodos"
   ]
  },
  {
   "cell_type": "code",
   "execution_count": null,
   "id": "f7d4b691",
   "metadata": {},
   "outputs": [],
   "source": [
    "collors = (\"vermelho\", \"azul\", \"verde\")\n",
    "\n",
    "print(collors.index(\"azul\"))  # Retorna o índice do elemento\n",
    "print(collors.count(\"verde\"))  # Conta quantas vezes \"verde\" aparece\n",
    "\n",
    "unique = (\"Python\",)  # A vírgula indica que é uma tupla"
   ]
  },
  {
   "cell_type": "markdown",
   "id": "7da0860a",
   "metadata": {},
   "source": [
    "Se quiser criar uma tupla com **um único elemento**, é necessário adicionar uma vírgula."
   ]
  },
  {
   "cell_type": "markdown",
   "id": "c68c61b6",
   "metadata": {},
   "source": [
    "### Referências sobre as tuplas\n",
    "[Conhecendo as Tuplas no Python](https://www.alura.com.br/artigos/conhecendo-as-tuplas-no-python)"
   ]
  },
  {
   "cell_type": "markdown",
   "id": "8d3f6488",
   "metadata": {},
   "source": [
    "## Dicionários\n",
    "Os **dicionários** em Python são estruturas de dados que armazenam informações em pares **chave-valor**, permitindo acesso rápido e eficiente aos dados. Eles são definidos entre **chaves** (`{}`) e cada chave é associada a um valor."
   ]
  },
  {
   "cell_type": "markdown",
   "id": "6be4f31f",
   "metadata": {},
   "source": [
    "### Criando um dicionário"
   ]
  },
  {
   "cell_type": "code",
   "execution_count": 11,
   "id": "4e0aced8",
   "metadata": {},
   "outputs": [],
   "source": [
    "person = {\"name\": \"Gabriel\", \"age\": 25, \"city\": \"São Paulo\"}"
   ]
  },
  {
   "cell_type": "markdown",
   "id": "4af48ed9",
   "metadata": {},
   "source": [
    "Aqui, `\"name\"`, `\"age\"` e `\"city\"` são **chaves**, e `\"Gabriel\"`, `25` e `\"São Paulo\"` são **valores**."
   ]
  },
  {
   "cell_type": "markdown",
   "id": "aa39c87a",
   "metadata": {},
   "source": [
    "### Modificando dicionários\n",
    "Como dicionários são **mutáveis**, podemos adicionar, atualizar ou remover elementos:\n"
   ]
  },
  {
   "cell_type": "code",
   "execution_count": null,
   "id": "9d1264cc",
   "metadata": {},
   "outputs": [],
   "source": [
    "person[\"age\"] = 26  # Atualiza um valor\n",
    "person[\"job\"] = \"Developer\"  # Adiciona um novo par chave-valor\n",
    "del person[\"city\"]  # Remove um item"
   ]
  },
  {
   "cell_type": "markdown",
   "id": "7c81124d",
   "metadata": {},
   "source": [
    "### Principais métodos\n",
    "- `.keys()`: Retorna todas as chaves.\n",
    "- `.values()`: Retorna todos os valores.\n",
    "- `.items()`: Retorna pares chave-valor.\n",
    "- `.get()`: Obtém um valor sem erro caso a chave não exista.\n",
    "- `.update()`: Atualiza o dicionário com novos valores.\n",
    "\n",
    "Exemplo:\n"
   ]
  },
  {
   "cell_type": "code",
   "execution_count": null,
   "id": "1a27160b",
   "metadata": {},
   "outputs": [],
   "source": [
    "print(person.keys())  \n",
    "print(person.values()) \n",
    "print(person.get(\"city\", \"Not found\"))"
   ]
  },
  {
   "cell_type": "markdown",
   "id": "45148165",
   "metadata": {},
   "source": [
    "Para iterar um dicionário em Python, você pode usar um loop for junto com métodos como `.keys()`, .values() e `.items()`, dependendo do que deseja acessar."
   ]
  },
  {
   "cell_type": "markdown",
   "id": "80778211",
   "metadata": {},
   "source": [
    "> 1. Iterando sobre as chaves\n",
    "\n",
    " Por padrão, um loop `for` percorre apenas as **chaves** do dicionário:"
   ]
  },
  {
   "cell_type": "code",
   "execution_count": null,
   "id": "a8843f70",
   "metadata": {},
   "outputs": [],
   "source": [
    "for key in person:\n",
    "    print(key)"
   ]
  },
  {
   "cell_type": "markdown",
   "id": "e975c2f5",
   "metadata": {},
   "source": [
    "> 2. Iterando sobre os valores\n",
    "\n",
    "Se quiser acessar apenas os **valores**, use `.values()`:\n"
   ]
  },
  {
   "cell_type": "code",
   "execution_count": null,
   "id": "51d0c6b3",
   "metadata": {},
   "outputs": [],
   "source": [
    "for value in person.values():\n",
    "    print(value)"
   ]
  },
  {
   "cell_type": "markdown",
   "id": "6ad92f59",
   "metadata": {},
   "source": [
    "> 3. Iterando sobre chaves e valores\n",
    "\n",
    "Para percorrer **chaves** e **valores** ao mesmo tempo, use `.items()`:"
   ]
  },
  {
   "cell_type": "code",
   "execution_count": null,
   "id": "4045ab8b",
   "metadata": {},
   "outputs": [],
   "source": [
    "for key, value in person.items():\n",
    "    print(f\"{key}: {value}\")"
   ]
  },
  {
   "cell_type": "markdown",
   "id": "ef0e3f84",
   "metadata": {},
   "source": [
    "> 4. Iterando com `enumerate()`\n",
    "\n",
    "Se precisar do índice junto com a chave, pode usar `enumerate()`:"
   ]
  },
  {
   "cell_type": "code",
   "execution_count": null,
   "id": "138b0611",
   "metadata": {},
   "outputs": [],
   "source": [
    "for i, (key, value) in enumerate(person.items()):\n",
    "    print(f\"{i} - {key}: {value}\")"
   ]
  },
  {
   "cell_type": "markdown",
   "id": "7a312d5c",
   "metadata": {},
   "source": [
    "> 5. Iterando e modificando valores\n",
    "\n",
    "Se quiser modificar os valores enquanto itera, pode usar um *dict comprehension*:"
   ]
  },
  {
   "cell_type": "code",
   "execution_count": null,
   "id": "d0cdd767",
   "metadata": {},
   "outputs": [],
   "source": [
    "dict_modified = {key: str(value).upper() for key, value in person.items()}\n",
    "print(dict_modified)"
   ]
  },
  {
   "cell_type": "markdown",
   "id": "c3eac03d",
   "metadata": {},
   "source": [
    "### Referências sobre dicionários\n",
    "\n",
    "[Dicionários no Python](https://pythonacademy.com.br/blog/dicts-ou-dicionarios-no-python)\n",
    "\n",
    "[Iterando sobre dicionários em Python](https://hub.asimov.academy/tutorial/iterando-sobre-dicionarios-em-python/)"
   ]
  },
  {
   "cell_type": "markdown",
   "id": "a8ceb4a0",
   "metadata": {},
   "source": [
    "## Conjuntos\n",
    "Os conjuntos (`set`) em Python são **coleções não ordenadas** de **elementos únicos**, ou seja, não permitem valores duplicados. Eles são úteis para operações matemáticas como **união**, **interseção** e **diferença**."
   ]
  },
  {
   "cell_type": "markdown",
   "id": "7c1131c2",
   "metadata": {},
   "source": [
    "### Criando um conjunto\n",
    "Podemos criar um conjunto usando `{}` ou a função `set()`:"
   ]
  },
  {
   "cell_type": "code",
   "execution_count": null,
   "id": "6ed51cba",
   "metadata": {},
   "outputs": [],
   "source": [
    "numbers = {1, 2, 3, 4, 5}\n",
    "other_numbers = set([3, 4, 5, 6, 7])"
   ]
  },
  {
   "cell_type": "markdown",
   "id": "68daac7d",
   "metadata": {},
   "source": [
    "### Principais operações\n",
    "Os conjuntos permitem operações matemáticas eficientes:\n"
   ]
  },
  {
   "cell_type": "code",
   "execution_count": null,
   "id": "5efcab36",
   "metadata": {},
   "outputs": [],
   "source": [
    "A = {1, 2, 3, 4}\n",
    "B = {3, 4, 5, 6}\n",
    "\n",
    "print(A | B)  # União → {1, 2, 3, 4, 5, 6}\n",
    "print(A & B)  # Interseção → {3, 4}\n",
    "print(A - B)  # Diferença → {1, 2}\n",
    "print(A ^ B)  # Diferença simétrica → {1, 2, 5, 6}"
   ]
  },
  {
   "cell_type": "markdown",
   "id": "34728ec1",
   "metadata": {},
   "source": [
    "### Métodos úteis\n",
    "- `add()`: Adiciona um elemento ao conjunto.\n",
    "- `remove()`: Remove um elemento (gera erro se não existir).\n",
    "- `discard()`: Remove um elemento sem erro.\n",
    "- `pop()`: Remove um elemento aleatório.\n",
    "- `clear()`: Remove todos os elementos."
   ]
  },
  {
   "cell_type": "code",
   "execution_count": null,
   "id": "85f8109c",
   "metadata": {},
   "outputs": [],
   "source": [
    "numbers.add(6)\n",
    "numbers.remove(2)\n",
    "print(numbers) "
   ]
  },
  {
   "cell_type": "markdown",
   "id": "33deae96",
   "metadata": {},
   "source": [
    "### Referências sobre conjuntos\n",
    "\n",
    "[Sets in Python](https://www.datacamp.com/pt/tutorial/sets-in-python)"
   ]
  }
 ],
 "metadata": {
  "kernelspec": {
   "display_name": "Python 3",
   "language": "python",
   "name": "python3"
  },
  "language_info": {
   "codemirror_mode": {
    "name": "ipython",
    "version": 3
   },
   "file_extension": ".py",
   "mimetype": "text/x-python",
   "name": "python",
   "nbconvert_exporter": "python",
   "pygments_lexer": "ipython3",
   "version": "3.13.0"
  }
 },
 "nbformat": 4,
 "nbformat_minor": 5
}
