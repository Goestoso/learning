{
 "cells": [
  {
   "cell_type": "markdown",
   "id": "c9720af9",
   "metadata": {},
   "source": [
    "# Lógica no Python"
   ]
  },
  {
   "cell_type": "markdown",
   "id": "1d4cb697",
   "metadata": {},
   "source": [
    "A lógica de programação em Python envolve o uso de **estruturas condicionais**, **operadores lógicos** e **loops** para tomar decisões e executar ações com base em determinadas condições."
   ]
  },
  {
   "cell_type": "markdown",
   "id": "e3958958",
   "metadata": {},
   "source": [
    "## 1. Estruturas Condicionais (`if`, `elif`, `else`)\n",
    "Essas estruturas permitem que o programa tome decisões com base em condições. "
   ]
  },
  {
   "cell_type": "code",
   "execution_count": null,
   "id": "7f7bd92d",
   "metadata": {},
   "outputs": [],
   "source": [
    "idade = int(input(\"Digite sua idade: \"))\n",
    "\n",
    "if idade >= 18:\n",
    "    print(\"Você é maior de idade.\")\n",
    "elif idade >= 12:\n",
    "    print(\"Você é adolescente.\")\n",
    "else:\n",
    "    print(\"Você é criança.\")"
   ]
  },
  {
   "cell_type": "markdown",
   "id": "0c58c62f",
   "metadata": {},
   "source": [
    "## 2. Operadores Lógicos (`and`, `or`, `not`)\n",
    "Os operadores lógicos ajudam a combinar condições:\n",
    "- `and`: Todas as condições devem ser verdadeiras.\n",
    "- `or`: Pelo menos uma condição deve ser verdadeira.\n",
    "- `not`: Inverte o valor lógico.\n"
   ]
  },
  {
   "cell_type": "code",
   "execution_count": null,
   "id": "e20032ad",
   "metadata": {},
   "outputs": [
    {
     "name": "stdout",
     "output_type": "stream",
     "text": [
      "Neutro.\n"
     ]
    }
   ],
   "source": [
    "temperature = int(input(\"Digite a temperatura atual: \"))\n",
    "hot, cold = False, False\n",
    "\n",
    "if temperature > 28: hot = True\n",
    "if temperature < 18: cold = True\n",
    "\n",
    "if hot: print(\"Calor.\")\n",
    "if cold: print(\"Frio.\")\n",
    "if not hot and not cold: print(\"Neutro.\")\n",
    "if hot or cold: print(\"Não está neutro.\")\n"
   ]
  },
  {
   "cell_type": "markdown",
   "id": "33b1529b",
   "metadata": {},
   "source": [
    "## 3. Loops (`for`, `while`)\n",
    "Os loops permitem repetir ações várias vezes:\n",
    "- `for`: Usado para percorrer listas ou intervalos.\n",
    "- `while`: Executa um bloco de código enquanto uma condição for verdadeira.\n"
   ]
  },
  {
   "cell_type": "code",
   "execution_count": null,
   "id": "c83ebe44",
   "metadata": {},
   "outputs": [],
   "source": [
    "for i in range(5):\n",
    "    print(f\"Contagem: {i}\")"
   ]
  },
  {
   "cell_type": "code",
   "execution_count": null,
   "id": "965d4d31",
   "metadata": {},
   "outputs": [],
   "source": [
    "contador = 0\n",
    "while contador < 5:\n",
    "    print(f\"Contagem: {contador}\")\n",
    "    contador += 1"
   ]
  },
  {
   "cell_type": "markdown",
   "id": "0b1a5055",
   "metadata": {},
   "source": [
    "## Referências\n",
    "[Operadores Aritméticos e Lógicos em Python](https://pythonacademy.com.br/blog/operadores-aritmeticos-e-logicos-em-python)"
   ]
  }
 ],
 "metadata": {
  "kernelspec": {
   "display_name": "Python 3",
   "language": "python",
   "name": "python3"
  },
  "language_info": {
   "codemirror_mode": {
    "name": "ipython",
    "version": 3
   },
   "file_extension": ".py",
   "mimetype": "text/x-python",
   "name": "python",
   "nbconvert_exporter": "python",
   "pygments_lexer": "ipython3",
   "version": "3.13.0"
  }
 },
 "nbformat": 4,
 "nbformat_minor": 5
}
