{
 "cells": [
  {
   "cell_type": "markdown",
   "id": "657b43bc",
   "metadata": {},
   "source": [
    "# Módulos e funções no Python"
   ]
  },
  {
   "cell_type": "markdown",
   "id": "3d97cd4e",
   "metadata": {},
   "source": [
    "## Estilo, convenções e nomenclaturas no Python\n",
    "O estilo de código em Python segue diretrizes para tornar o código mais legível, organizado e padronizado."
   ]
  },
  {
   "cell_type": "markdown",
   "id": "ec130722",
   "metadata": {},
   "source": [
    "### Principais regras do **PEP 8**\n",
    "- **Indentação** → Use **4 espaços** por nível de indentação, nunca tabulações.\n",
    "- **Comprimento de linha** → Máximo de **79 caracteres** por linha.\n",
    "- **Espaçamento** → Separe operadores e argumentos com espaços para melhorar a legibilidade.\n",
    "- **Docstrings** → Comente funções e classes usando `\"\"\"descrição\"\"\"`.\n"
   ]
  },
  {
   "cell_type": "markdown",
   "id": "8220b313",
   "metadata": {},
   "source": [
    "Além disso, Python segue padrões de nomenclatura e algumas convenções importantes, que incluem:"
   ]
  },
  {
   "cell_type": "markdown",
   "id": "d0b17c76",
   "metadata": {},
   "source": [
    "- **Variáveis e funções** → `snake_case`: palavras separadas por `_`:"
   ]
  },
  {
   "cell_type": "code",
   "execution_count": null,
   "id": "4b72325c",
   "metadata": {},
   "outputs": [],
   "source": [
    "user_name = \"Gabriel\"\n",
    "def calculate_average(grades):\n",
    "    return sum(grades) / len(grades)"
   ]
  },
  {
   "cell_type": "markdown",
   "id": "cfb2c0bd",
   "metadata": {},
   "source": [
    "- **Classes** → `PascalCase`: cada palavra começa com maiúscula:"
   ]
  },
  {
   "cell_type": "code",
   "execution_count": null,
   "id": "b2b0374a",
   "metadata": {},
   "outputs": [],
   "source": [
    "class FundacaoBradesco:\n",
    "    pass"
   ]
  },
  {
   "cell_type": "markdown",
   "id": "04a4be71",
   "metadata": {},
   "source": [
    "- **Constantes** → `SCREAMING_SNAKE_CASE`: tudo em maiúsculas:"
   ]
  },
  {
   "cell_type": "code",
   "execution_count": null,
   "id": "7661c2c4",
   "metadata": {},
   "outputs": [],
   "source": [
    "PI = 3.14159"
   ]
  },
  {
   "cell_type": "markdown",
   "id": "c967f6d0",
   "metadata": {},
   "source": [
    "- **Módulos e pacotes** → nomes curtos e em minúsculas:"
   ]
  },
  {
   "cell_type": "code",
   "execution_count": null,
   "id": "1cd65e8d",
   "metadata": {},
   "outputs": [],
   "source": [
    "import random"
   ]
  },
  {
   "cell_type": "markdown",
   "id": "ccbd744a",
   "metadata": {},
   "source": [
    "### Referências sobre estilo de código no Python\n",
    "\n",
    "A principal referência para boas práticas é o **PEP 8**, que define convenções para escrita de código Python: [PEP 8 - Estilo de código para o Python](https://peps-python-org.translate.goog/pep-0008/?_x_tr_sl=en&_x_tr_tl=pt&_x_tr_hl=pt&_x_tr_pto=tc)."
   ]
  },
  {
   "cell_type": "markdown",
   "id": "6630975c",
   "metadata": {},
   "source": [
    "## Módulos\n",
    "Os módulos são arquivos que contêm código Python e podem ser importados para outros programas. Eles ajudam a **organizar** e **reutilizar** código, evitando repetições e tornando os programas mais estruturados.\n",
    "Tipos de módulos\n",
    "- **Módulos embutidos (Built-in)**: Já vêm com o Python, como `math`, `random` e `os`.\n",
    "- **Módulos de terceiros**: Instalados via `pip`, como `numpy` e `pandas`.\n",
    "- **Módulos personalizados**: Criados pelo próprio programador.\n"
   ]
  },
  {
   "cell_type": "markdown",
   "id": "2f61e32a",
   "metadata": {},
   "source": [
    "### Como importar módulos\n",
    "\n",
    "Podemos importar módulos de diferentes formas:"
   ]
  },
  {
   "cell_type": "code",
   "execution_count": null,
   "id": "fdc907ec",
   "metadata": {},
   "outputs": [],
   "source": [
    "import math  # Importa todo o módulo\n",
    "print(math.sqrt(16))\n",
    "\n",
    "from math import sqrt  # Importa apenas a função sqrt\n",
    "print(sqrt(25))  "
   ]
  },
  {
   "cell_type": "markdown",
   "id": "143ae7f8",
   "metadata": {},
   "source": [
    "### Bibliotecas\n",
    "\n",
    "Uma **biblioteca** em Python é um conjunto de **módulos** que oferecem funcionalidades específicas para facilitar o desenvolvimento de programas. Os módulos são arquivos Python (`.py`) que contêm funções, classes e variáveis reutilizáveis."
   ]
  },
  {
   "cell_type": "markdown",
   "id": "07dc2eab",
   "metadata": {},
   "source": [
    "#### Diferença entre módulo e biblioteca\n",
    "- **Módulo** → Um único arquivo Python com código reutilizável.\n",
    "- **Biblioteca** → Um conjunto de módulos que trabalham juntos para fornecer funcionalidades mais amplas.\n",
    "\n",
    "Por exemplo, a biblioteca **NumPy** contém vários módulos para manipulação de arrays e cálculos matemáticos avançados.\n"
   ]
  },
  {
   "cell_type": "markdown",
   "id": "6edf5aab",
   "metadata": {},
   "source": [
    "#### Exemplo de criação de uma biblioteca\n",
    "Se criarmos dois módulos `matematica.py` e `estatistica.py`, podemos agrupá-los em uma biblioteca chamada `meu_pacote`:\n",
    "```\n",
    "meu_pacote/\n",
    "│── __init__.py\n",
    "│── matematica.py\n",
    "│── estatistica.py\n",
    "```\n",
    "O arquivo `__init__.py` indica que `meu_pacote` é um pacote Python, permitindo importar seus módulos."
   ]
  },
  {
   "cell_type": "markdown",
   "id": "d7e84022",
   "metadata": {},
   "source": [
    "#### Importando uma biblioteca\n",
    "```\n",
    "import meu_pacote.matematica\n",
    "import meu_pacote.estatistica\n",
    "```"
   ]
  },
  {
   "cell_type": "markdown",
   "id": "e5e8fc46",
   "metadata": {},
   "source": [
    "### Frameworks\n",
    "Um **framework** em Python é um conjunto de módulos, ferramentas e diretrizes que ajudam os desenvolvedores a criar aplicações de forma mais eficiente. Ele fornece uma estrutura pré-definida para o desenvolvimento, eliminando a necessidade de escrever código repetitivo e garantindo boas práticas.\n"
   ]
  },
  {
   "cell_type": "markdown",
   "id": "571348eb",
   "metadata": {},
   "source": [
    "#### Principais características de um framework\n",
    "✅ **Facilita o desenvolvimento** → Oferece funcionalidades prontas para uso.\n",
    "\n",
    "✅ **Padroniza o código** → Segue boas práticas e arquiteturas organizadas.\n",
    "\n",
    "✅ **Acelera o processo** → Reduz o tempo de desenvolvimento ao evitar reescrita de código.\n",
    "\n",
    "✅ **Suporte da comunidade** → Muitos frameworks têm grandes comunidades e documentação extensa.\n",
    "\n"
   ]
  },
  {
   "cell_type": "markdown",
   "id": "b231ba31",
   "metadata": {},
   "source": [
    "#### Tipos de frameworks em Python\n",
    "- **Frameworks Full-Stack** → Oferecem tudo para criar aplicações completas.\n",
    "- Exemplo: **Django** (ideal para desenvolvimento web robusto).\n",
    "- **Microframeworks** → Mais leves e flexíveis, permitindo maior controle sobre o código.\n",
    "- Exemplo: **Flask** (ótimo para APIs e aplicações menores).\n",
    "- **Frameworks para Data Science** → Focados em análise de dados e aprendizado de máquina.\n",
    "- Exemplo: **TensorFlow** e **Scikit-learn**.\n",
    "- **Frameworks para automação** → Facilitam testes e automação de tarefas.\n",
    "- Exemplo: **Selenium** e **Robot Framework**.\n"
   ]
  },
  {
   "cell_type": "markdown",
   "id": "92c241af",
   "metadata": {},
   "source": [
    "### Referências sobre módulos\n",
    "[Módulos](https://docs.python.org/pt-br/3/tutorial/modules.html)\n",
    "\n",
    "[Biblioteca Padrão](https://docs.python.org/pt-br/3/library/index.html)\n",
    "\n",
    "[Os melhores frameworks do Python](https://blog.geekhunter.com.br/os-5-melhores-frameworks-de-python/)"
   ]
  },
  {
   "cell_type": "markdown",
   "id": "cdb13d4b",
   "metadata": {},
   "source": [
    "## Funções\n",
    "As **funções** são blocos de código reutilizáveis que realizam uma tarefa específica. Elas ajudam a **organizar** e **modularizar** o código."
   ]
  },
  {
   "cell_type": "markdown",
   "id": "21e28892",
   "metadata": {},
   "source": [
    "- Criando uma função:"
   ]
  },
  {
   "cell_type": "code",
   "execution_count": null,
   "id": "83241344",
   "metadata": {},
   "outputs": [],
   "source": [
    "def welcome(name):\n",
    "    return f\"Hello, {name}!\""
   ]
  },
  {
   "cell_type": "markdown",
   "id": "4dcf2de8",
   "metadata": {},
   "source": [
    "- Chamando a função:"
   ]
  },
  {
   "cell_type": "code",
   "execution_count": null,
   "id": "ccd48179",
   "metadata": {},
   "outputs": [],
   "source": [
    "print(welcome(\"Gabriel\"))"
   ]
  },
  {
   "cell_type": "markdown",
   "id": "2a27e52d",
   "metadata": {},
   "source": [
    "- Funções com parâmetros e retorno:"
   ]
  },
  {
   "cell_type": "code",
   "execution_count": null,
   "id": "9ff463b1",
   "metadata": {},
   "outputs": [],
   "source": [
    "def add(a, b):\n",
    "    return a + b\n",
    "\n",
    "result= add(3, 5)\n",
    "print(result) "
   ]
  },
  {
   "cell_type": "markdown",
   "id": "5589da31",
   "metadata": {},
   "source": [
    "- Funções anônimas (`lambda`):"
   ]
  },
  {
   "cell_type": "code",
   "execution_count": null,
   "id": "6ba1ceb0",
   "metadata": {},
   "outputs": [],
   "source": [
    "double = lambda x: x * 2\n",
    "print(double(4)) "
   ]
  },
  {
   "cell_type": "markdown",
   "id": "e6589a9f",
   "metadata": {},
   "source": [
    "- Funções *built-in*:"
   ]
  },
  {
   "cell_type": "code",
   "execution_count": null,
   "id": "f5b2c2ab",
   "metadata": {},
   "outputs": [],
   "source": [
    "print(\"Hello\")\n",
    "print(type(True))\n",
    "print(sum((1,2)))"
   ]
  },
  {
   "cell_type": "markdown",
   "id": "4333dd69",
   "metadata": {},
   "source": [
    "As funções *built-in* são aquelas que já vêm embutidas no Python e podem ser usadas sem importar módulos."
   ]
  },
  {
   "cell_type": "markdown",
   "id": "a892957f",
   "metadata": {},
   "source": [
    "- Funções aninhadas:"
   ]
  },
  {
   "cell_type": "code",
   "execution_count": null,
   "id": "cffd472a",
   "metadata": {},
   "outputs": [],
   "source": [
    "def external():\n",
    "    print(\"Executando função externa!\")\n",
    "\n",
    "    def internal():\n",
    "        print(\"Executando função interna!\")\n",
    "\n",
    "    internal()  # Chamando a função interna dentro da externa\n",
    "\n",
    "external()"
   ]
  },
  {
   "cell_type": "markdown",
   "id": "661e3753",
   "metadata": {},
   "source": [
    "Funções aninhadas em Python são funções **definidas dentro de outras funções**. Elas são úteis para organizar o código, encapsular lógica e criar escopos mais restritos."
   ]
  },
  {
   "cell_type": "markdown",
   "id": "cc204401",
   "metadata": {},
   "source": [
    "- Funções *closures*:"
   ]
  },
  {
   "cell_type": "code",
   "execution_count": null,
   "id": "9efca879",
   "metadata": {},
   "outputs": [],
   "source": [
    "def welcome(nome):\n",
    "    def message():\n",
    "        return f\"Hello, {nome}!\"  # 'name' vem da função externa\n",
    "    return message  # Retorna a função interna\n",
    "\n",
    "# Criando um closure\n",
    "my_closure = welcome(\"Gabriel\")\n",
    "print(my_closure())"
   ]
  },
  {
   "cell_type": "markdown",
   "id": "f5d0573a",
   "metadata": {},
   "source": [
    "Em Python, um **closure** é uma função interna que **lembra** e **mantém acesso** às variáveis da função externa, mesmo depois que a função externa já foi executada e finalizada. Isso permite que a função interna retenha um estado sem precisar de variáveis globais."
   ]
  },
  {
   "cell_type": "markdown",
   "id": "f7b7623d",
   "metadata": {},
   "source": [
    "> Como funciona um closure?\n",
    "\n",
    "- Uma função é definida dentro de outra.\n",
    "- A função interna usa variáveis da função externa.\n",
    "- A função externa retorna a função interna, permitindo que ela seja chamada posteriormente.\n"
   ]
  },
  {
   "cell_type": "markdown",
   "id": "a5830560",
   "metadata": {},
   "source": [
    "> Closure com estado persistente\n",
    "\n",
    "Closures podem ser usados para **manter estado** entre chamadas:"
   ]
  },
  {
   "cell_type": "code",
   "execution_count": null,
   "id": "01009364",
   "metadata": {},
   "outputs": [],
   "source": [
    "def counter():\n",
    "    num = 0\n",
    "    def incrementar():\n",
    "        nonlocal num  # Permite modificar 'num' da função externa\n",
    "        num += 1\n",
    "        return num\n",
    "    return incrementar\n",
    "\n",
    "# Criando um contador\n",
    "my_counter = counter()\n",
    "print(my_counter())\n",
    "print(my_counter()) \n",
    "print(my_counter()) "
   ]
  },
  {
   "cell_type": "markdown",
   "id": "fe22963e",
   "metadata": {},
   "source": [
    "✅ O *closure* **lembra** do valor de `num` entre chamadas, sem precisar de variáveis globais."
   ]
  },
  {
   "cell_type": "markdown",
   "id": "f51f0dd3",
   "metadata": {},
   "source": [
    "> Quando usar closures?\n",
    "\n",
    "✔ **Evitar variáveis globais** e manter dados encapsulados.\n",
    "\n",
    "✔ **Criar funções que mantêm estado** sem precisar de classes.\n",
    "\n",
    "✔ **Facilitar callbacks** e programação funcional."
   ]
  },
  {
   "cell_type": "markdown",
   "id": "f8b9f40b",
   "metadata": {},
   "source": [
    "- Funções *callback*:"
   ]
  },
  {
   "cell_type": "code",
   "execution_count": null,
   "id": "89fd1e61",
   "metadata": {},
   "outputs": [],
   "source": [
    "def welcome(name):\n",
    "    return f\"Olá, {name}!\"\n",
    "\n",
    "def execute_callback(callback, argument):\n",
    "    print(\"Executing the callback function...\")\n",
    "    print(callback(argument))  # Chamando a função passada como argumento\n",
    "\n",
    "execute_callback(welcome, \"Gabriel\")"
   ]
  },
  {
   "cell_type": "markdown",
   "id": "8013976e",
   "metadata": {},
   "source": [
    "Uma **função callback** em Python é uma função que é passada como argumento para outra função e chamada posteriormente dentro dessa função. Isso permite que um código seja mais flexível e reutilizável, pois a função principal pode executar diferentes comportamentos dependendo da função callback fornecida."
   ]
  },
  {
   "cell_type": "markdown",
   "id": "9f125ebf",
   "metadata": {},
   "source": [
    "> Como funciona uma função callback?\n",
    "\n",
    "1. Uma função é definida normalmente.\n",
    "2. Ela é passada como argumento para outra função.\n",
    "3. A função principal chama a função callback em algum momento.\n"
   ]
  },
  {
   "cell_type": "markdown",
   "id": "114155ec",
   "metadata": {},
   "source": [
    "> Exemplo com funções anônimas (`lambda`)\n",
    "\n",
    "Podemos usar **funções lambda** como *callbacks* para tornar o código mais compacto:"
   ]
  },
  {
   "cell_type": "code",
   "execution_count": null,
   "id": "3ec9e37d",
   "metadata": {},
   "outputs": [],
   "source": [
    "execute_callback(lambda x: f\"Welcome, {x}!\", \"Gabriel\")"
   ]
  },
  {
   "cell_type": "markdown",
   "id": "f2361979",
   "metadata": {},
   "source": [
    "> Aplicações de funções callback:\n",
    "\n",
    "✔ **Manipulação de eventos** → Muito usada em interfaces gráficas e programação assíncrona.\n",
    "\n",
    "✔ **Ordenação personalizada** → Exemplo: `sorted(lista, key=callback)`.\n",
    "\n",
    "\n",
    "✔ **Execução de código dinâmico** → Permite alterar o comportamento de funções sem modificar seu código-fonte."
   ]
  },
  {
   "cell_type": "markdown",
   "id": "a34db86f",
   "metadata": {},
   "source": [
    "### Referências sobre funções\n",
    "\n",
    "[Funções em Python](https://www.devmedia.com.br/funcoes-em-python/37340)\n",
    "\n",
    "[Nested Functions](https://diveintopython.org/pt/learn/functions/nested)\n",
    "\n",
    "[Closure Functions](https://www.programiz.com/python-programming/closure)\n",
    "\n",
    "[Callback Functions](https://www.askpython.com/python/built-in-methods/callback-functions-in-python)"
   ]
  },
  {
   "cell_type": "markdown",
   "id": "83fde1ae",
   "metadata": {},
   "source": [
    "## Ponto de entrada do código\n",
    "\n",
    "Em Python, usamos `if __name__ == \"__main__\":` para definir um **ponto de entrada no código**. Isso garante que certas funções ou trechos de código sejam executados **apenas** quando o arquivo é rodado diretamente, e não quando é importado como um módulo."
   ]
  },
  {
   "cell_type": "markdown",
   "id": "5eb403bd",
   "metadata": {},
   "source": [
    "### Por que usar `if __name__ == \"__main__\"`?\n",
    "✅ Evita execução indesejada quando o módulo é importado.\n",
    "\n",
    "✅ Permite reutilização do código sem efeitos colaterais.\n",
    "\n",
    "✅ Facilita testes e organização do programa."
   ]
  },
  {
   "cell_type": "code",
   "execution_count": null,
   "id": "2d33f1a3",
   "metadata": {},
   "outputs": [],
   "source": [
    "# Exemplo prático\n",
    "def welcome(name):\n",
    "    return f\"Hello, {name}!\"\n",
    "\n",
    "if __name__ == \"__main__\":\n",
    "    print(welcome(\"Gabriel\"))"
   ]
  },
  {
   "cell_type": "markdown",
   "id": "317bbbe5",
   "metadata": {},
   "source": [
    "Se rodarmos esse arquivo diretamente (`python meu_script.py`), ele imprimirá `\"Olá, Gabriel!\"`.\n",
    "\n",
    "Se importarmos `meu_script.py` em outro módulo, a função `saudacao()` estará disponível, mas **não será executada automaticamente**."
   ]
  },
  {
   "cell_type": "markdown",
   "id": "46678934",
   "metadata": {},
   "source": [
    "### Como funciona `__name__`?\n",
    "- Quando um arquivo Python é **executado diretamente**, `__name__` recebe o valor `\"__main__\"`.\n",
    "- Quando um arquivo é importado, `__name__` recebe o nome do módulo (`meu_script`, por exemplo).\n"
   ]
  },
  {
   "cell_type": "markdown",
   "id": "5de14850",
   "metadata": {},
   "source": [
    "### Referências sobre o ponto de entrada do código\n",
    "\n",
    "[Main functions](https://realpython.com/python-main-function/)"
   ]
  },
  {
   "cell_type": "markdown",
   "id": "d559c971",
   "metadata": {},
   "source": [
    "## Escopo de variável\n",
    "\n",
    "Em Python, o **escopo** de uma variável define onde ela pode ser acessada e modificada dentro do código. Existem dois principais tipos de escopo: **global** e **local**."
   ]
  },
  {
   "cell_type": "markdown",
   "id": "024d81cc",
   "metadata": {},
   "source": [
    "### Escopo Global\n",
    "Uma variável **global** é declarada fora de qualquer função e pode ser acessada de qualquer parte do programa."
   ]
  },
  {
   "cell_type": "code",
   "execution_count": null,
   "id": "6320ecb9",
   "metadata": {},
   "outputs": [],
   "source": [
    "message = \"Hello, world!\"  # Variável global\n",
    "\n",
    "def show():\n",
    "    print(message)  # Acessando a variável global dentro da função\n",
    "\n",
    "show()"
   ]
  },
  {
   "cell_type": "markdown",
   "id": "e18f9adc",
   "metadata": {},
   "source": [
    "✅ **Vantagem**: Pode ser usada em várias funções sem precisar ser passada como argumento.\n",
    "\n",
    "❌ **Desvantagem**: Se modificada dentro de uma função sem `global`, cria uma nova variável local."
   ]
  },
  {
   "cell_type": "markdown",
   "id": "0c407d2e",
   "metadata": {},
   "source": [
    "### Escopo Local\n",
    "Uma variável **local** é declarada dentro de uma função e só pode ser acessada dentro dela."
   ]
  },
  {
   "cell_type": "code",
   "execution_count": null,
   "id": "4bcbca39",
   "metadata": {},
   "outputs": [],
   "source": [
    "def welcome():\n",
    "    name = \"Gabriel\"  # Variável local\n",
    "    print(f\"Olá, {name}!\")\n",
    "\n",
    "welcome()\n",
    "print(name)  # ❌ Erro! 'nome' não existe fora da função"
   ]
  },
  {
   "cell_type": "markdown",
   "id": "6bd4669f",
   "metadata": {},
   "source": [
    "✅ **Vantagem**: Evita conflitos e mantém o código mais organizado.\n",
    "\n",
    "❌ **Desvantagem**: Não pode ser acessada fora da função."
   ]
  },
  {
   "cell_type": "markdown",
   "id": "03896858",
   "metadata": {},
   "source": [
    "### Modificando variáveis globais dentro de funções\n",
    "Se precisar modificar uma variável global dentro de uma função, use `global`:"
   ]
  },
  {
   "cell_type": "code",
   "execution_count": null,
   "id": "df8d19f3",
   "metadata": {},
   "outputs": [],
   "source": [
    "count = 0  # Variável global\n",
    "\n",
    "def increment():\n",
    "    global count  # Indica que estamos modificando a variável global\n",
    "    count += 1\n",
    "\n",
    "increment()\n",
    "print(count)"
   ]
  },
  {
   "cell_type": "markdown",
   "id": "b0eedf7c",
   "metadata": {},
   "source": [
    "✅ **Cuidado!** O uso excessivo de global pode tornar o código difícil de depurar."
   ]
  },
  {
   "cell_type": "markdown",
   "id": "853d7335",
   "metadata": {},
   "source": [
    "### Escopo Envolvente (`nonlocal`)\n",
    "Se uma função estiver dentro de outra, podemos modificar variáveis do **escopo envolvente** usando `nonlocal`:\n"
   ]
  },
  {
   "cell_type": "code",
   "execution_count": null,
   "id": "ca0932f7",
   "metadata": {},
   "outputs": [],
   "source": [
    "def external():\n",
    "    count = 0  # Variável no escopo envolvente\n",
    "\n",
    "    def internal():\n",
    "        nonlocal count  # Modifica a variável da função externa\n",
    "        count += 1\n",
    "        print(count)\n",
    "\n",
    "    internal()\n",
    "\n",
    "external() "
   ]
  },
  {
   "cell_type": "markdown",
   "id": "0e6c350e",
   "metadata": {},
   "source": [
    "✅ Útil para **funções aninhadas** e **closures**."
   ]
  },
  {
   "cell_type": "markdown",
   "id": "25bd4049",
   "metadata": {},
   "source": [
    "### Regra LEGB\n",
    "Python segue a regra **LEGB** para buscar variáveis:\n",
    "1. **Local** → Variáveis dentro da função.\n",
    "2. **Enclosing** → Variáveis em funções externas.\n",
    "3. **Global** → Variáveis definidas no módulo.\n",
    "4. **Built-in** → Funções embutidas (`print()`, `len()`, etc.)."
   ]
  },
  {
   "cell_type": "markdown",
   "id": "61de4a76",
   "metadata": {},
   "source": [
    "### Referências sobre escopo de variável\n",
    "\n",
    "[Escopo de variáveis](https://www.datacamp.com/pt/tutorial/scope-of-variables-python)"
   ]
  }
 ],
 "metadata": {
  "kernelspec": {
   "display_name": "Python 3",
   "language": "python",
   "name": "python3"
  },
  "language_info": {
   "codemirror_mode": {
    "name": "ipython",
    "version": 3
   },
   "file_extension": ".py",
   "mimetype": "text/x-python",
   "name": "python",
   "nbconvert_exporter": "python",
   "pygments_lexer": "ipython3",
   "version": "3.13.0"
  }
 },
 "nbformat": 4,
 "nbformat_minor": 5
}
