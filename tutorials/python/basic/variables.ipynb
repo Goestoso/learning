{
 "cells": [
  {
   "cell_type": "markdown",
   "id": "b2ff63d1",
   "metadata": {},
   "source": [
    "# Variáveis no Python"
   ]
  },
  {
   "cell_type": "markdown",
   "id": "ba240d00",
   "metadata": {},
   "source": [
    "**Variáveis** são um dos conceitos fundamentais da programação. Elas servem para armazenar valores que podem ser usados e manipulados ao longo do código. Em Python, as variáveis são **dinamicamente tipadas**, ou seja, você não precisa declarar o tipo da variável explicitamente—o próprio Python identifica o tipo com base no valor atribuído."
   ]
  },
  {
   "cell_type": "markdown",
   "id": "0859569d",
   "metadata": {},
   "source": [
    "## Como declarar uma variável\n",
    "Para criar uma variável, basta atribuir um valor a um nome:"
   ]
  },
  {
   "cell_type": "code",
   "execution_count": 2,
   "id": "725d7ee5",
   "metadata": {},
   "outputs": [],
   "source": [
    "name = \"Gabriel\"  # Variável do tipo string\n",
    "age = 25        # Variável do tipo inteiro\n",
    "high = 1.75     # Variável do tipo float\n",
    "nothing = None  # Variável sem valor definido"
   ]
  },
  {
   "cell_type": "markdown",
   "id": "9d1169b2",
   "metadata": {},
   "source": [
    "Aqui, `name` armazena um texto, `age` um número inteiro, `high` um número decimal e `nothing` é um valor indefinido."
   ]
  },
  {
   "cell_type": "markdown",
   "id": "b5018bf7",
   "metadata": {},
   "source": [
    "## Tipos de variáveis\n",
    "Python possui diversos tipos de variáveis, como:\n",
    "- Inteiros (`int`): Números sem casas decimais (`age = 25`)\n",
    "- Ponto flutuante (`float`): Números com casas decimais (`high = 1.75`)\n",
    "- Strings (`str`): Textos (`name = \"Gabriel\"`)\n",
    "- Booleanos (`bool`): Verdadeiro (*True*) ou falso (*False*) (`active = True`)\n",
    "- Listas (`list`): Coleção de valores (`fruits = [\"apple\", \"banana\", \"grape\"]`)\n",
    "- Dicionários (`dict`): Estrutura de chave-valor (`person = {\"name\": \"Gabriel\", \"age\": 25}`)\n",
    "- Valores indefinidos (`NoneType`): usado quando uma variável ou função não tem um valor definido (`indefinite = None`)."
   ]
  },
  {
   "cell_type": "markdown",
   "id": "42d1902d",
   "metadata": {},
   "source": [
    "## Manipulação de variáveis\n",
    "Você pode modificar o valor de uma variável ao longo do código."
   ]
  },
  {
   "cell_type": "code",
   "execution_count": null,
   "id": "d267c818",
   "metadata": {},
   "outputs": [],
   "source": [
    "count = 0\n",
    "count += 1  # Agora contador vale 1"
   ]
  },
  {
   "cell_type": "markdown",
   "id": "601730b0",
   "metadata": {},
   "source": [
    "Além disso, pode verificar o tipo de uma variável com `type()`:"
   ]
  },
  {
   "cell_type": "code",
   "execution_count": 3,
   "id": "01b0b0eb",
   "metadata": {},
   "outputs": [
    {
     "name": "stdout",
     "output_type": "stream",
     "text": [
      "<class 'str'>\n"
     ]
    }
   ],
   "source": [
    "print(type(name))  # Saída: <class 'str'>"
   ]
  },
  {
   "cell_type": "markdown",
   "id": "30c7c214",
   "metadata": {},
   "source": [
    "## Type Hints\n",
    "Python permite **anotações de tipo** (type hints), que ajudam a tornar o código mais legível e facilitam a detecção de erros. Embora Python seja uma linguagem **dinamicamente tipada**, você pode indicar os tipos esperados para variáveis e funções."
   ]
  },
  {
   "cell_type": "markdown",
   "id": "94ec7fe4",
   "metadata": {},
   "source": [
    "### Type Hints em Variáveis\n",
    "\n"
   ]
  },
  {
   "cell_type": "code",
   "execution_count": null,
   "id": "a845e992",
   "metadata": {},
   "outputs": [],
   "source": [
    "age: int = 25\n",
    "name: str = \"Gabriel\"\n",
    "high: float = 1.75"
   ]
  },
  {
   "cell_type": "markdown",
   "id": "92d1c30c",
   "metadata": {},
   "source": [
    "Isso não altera a execução do código, mas melhora a clareza e permite que ferramentas como **mypy** façam verificações estáticas"
   ]
  },
  {
   "cell_type": "markdown",
   "id": "2401f61a",
   "metadata": {},
   "source": [
    "### Tipos Compostos\n",
    "Para listas, dicionários e outras estruturas, usamos o módulo `typing`:"
   ]
  },
  {
   "cell_type": "code",
   "execution_count": null,
   "id": "e457cbf4",
   "metadata": {},
   "outputs": [],
   "source": [
    "from typing import List, Dict\n",
    "\n",
    "names: List[str] = [\"Ana\", \"Carlos\", \"Gabriel\"]\n",
    "data: Dict[str, int] = {\"age\": 25, \"high\": 175}"
   ]
  },
  {
   "cell_type": "markdown",
   "id": "314d380a",
   "metadata": {},
   "source": [
    "### Union e Optional\n",
    "Se uma variável pode ter mais de um tipo:\n"
   ]
  },
  {
   "cell_type": "code",
   "execution_count": null,
   "id": "31519441",
   "metadata": {},
   "outputs": [],
   "source": [
    "from typing import Union, Optional\n",
    "\n",
    "number: Union[int, float] = 10.5  # Pode ser int ou float\n",
    "nickname: Optional[str] = None  # Pode ser str ou None"
   ]
  },
  {
   "cell_type": "markdown",
   "id": "12a7e137",
   "metadata": {},
   "source": [
    "## Variáveis especiais\n",
    "As ***variáveis dunder*** são atributos especiais do Python que armazenam informações sobre objetos e módulos.\n",
    "\n",
    "> Exemplos comuns de variáveis dunder:\n",
    "- `__name__` → Nome do módulo atual.\n",
    "- `__file__` → Caminho do arquivo Python.\n",
    "- `__dict__` → Dicionário com atributos de um objeto.\n",
    "- `__doc__` → Documentação da classe ou função."
   ]
  },
  {
   "cell_type": "code",
   "execution_count": null,
   "id": "58470932",
   "metadata": {},
   "outputs": [],
   "source": [
    "print(__name__)  # Saída: \"__main__\" (se for executado diretamente)"
   ]
  },
  {
   "cell_type": "markdown",
   "id": "cfca88d4",
   "metadata": {},
   "source": [
    "## Referências\n",
    "\n",
    "[Typing](https://docs.python.org/3/library/typing.html)\n",
    "\n",
    "[Tipos de Variáveis disponíveis no Python](https://pythonacademy.com.br/blog/tipos-de-variaveis-no-python)\n",
    "\n",
    "[Variáveis dunder](https://www-pythonmorsels-com.translate.goog/dunder-variables/?_x_tr_sl=en&_x_tr_tl=pt&_x_tr_hl=pt&_x_tr_pto=tc)"
   ]
  }
 ],
 "metadata": {
  "kernelspec": {
   "display_name": "Python 3",
   "language": "python",
   "name": "python3"
  },
  "language_info": {
   "codemirror_mode": {
    "name": "ipython",
    "version": 3
   },
   "file_extension": ".py",
   "mimetype": "text/x-python",
   "name": "python",
   "nbconvert_exporter": "python",
   "pygments_lexer": "ipython3",
   "version": "3.13.0"
  }
 },
 "nbformat": 4,
 "nbformat_minor": 5
}
